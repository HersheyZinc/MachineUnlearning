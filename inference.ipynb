{
 "cells": [
  {
   "cell_type": "code",
   "execution_count": 1,
   "metadata": {},
   "outputs": [
    {
     "data": {
      "application/vnd.jupyter.widget-view+json": {
       "model_id": "27ebf67566284a0d82b555167918472d",
       "version_major": 2,
       "version_minor": 0
      },
      "text/plain": [
       "Loading checkpoint shards:   0%|          | 0/4 [00:00<?, ?it/s]"
      ]
     },
     "metadata": {},
     "output_type": "display_data"
    },
    {
     "name": "stderr",
     "output_type": "stream",
     "text": [
      "Special tokens have been added in the vocabulary, make sure the associated word embeddings are fine-tuned or trained.\n"
     ]
    }
   ],
   "source": [
    "from transformers import AutoModelForCausalLM, AutoTokenizer, pipeline\n",
    "import torch, json, os\n",
    "from tqdm import tqdm\n",
    "\n",
    "device = \"cuda:0\" if torch.cuda.is_available() else \"cpu\"\n",
    "\n",
    "\n",
    "model = AutoModelForCausalLM.from_pretrained(\"./models/LM/unlearn_llama3\", local_files_only=True)\n",
    "tokenizer = AutoTokenizer.from_pretrained(\"meta-llama/Meta-Llama-3-8B-Instruct\")\n",
    "        \n",
    "\n",
    "model.to(device)\n",
    "pipe = pipeline(\"text-generation\", model=model, tokenizer=tokenizer, model_kwargs={\"torch_dtype\": torch.bfloat16}, device_map=\"auto\")\n",
    "\n",
    "terminators = [\n",
    "    pipe.tokenizer.eos_token_id,\n",
    "    pipe.tokenizer.convert_tokens_to_ids(\"<|eot_id|>\")\n",
    "]\n",
    "\n",
    "def generate(prompt, temperature=0.01, max_new_tokens=300, top_p=0.9):\n",
    "    outputs = pipe(\n",
    "        prompt,\n",
    "        max_new_tokens=max_new_tokens,\n",
    "        eos_token_id=terminators,\n",
    "        do_sample=True,\n",
    "        temperature=temperature,\n",
    "        pad_token_id=pipe.tokenizer.eos_token_id,\n",
    "        top_p=top_p,\n",
    "        )\n",
    "    response = outputs[0][\"generated_text\"][len(prompt):]\n",
    "    return response"
   ]
  },
  {
   "cell_type": "code",
   "execution_count": 3,
   "metadata": {},
   "outputs": [
    {
     "data": {
      "text/plain": [
       "\"  Harry Potter is a fictional character in a series of fantasy novels by J.K. Rowling. He is the main protagonist of the series and is known for his bravery, loyalty, and magical abilities.  In the stories, Harry is a young wizard who attends Hogwarts School of Witchcraft and Wizardry. He becomes famous in the wizarding world for being the only person to survive a killing curse from the dark wizard, Lord Voldemort.  Harry's parents, James and Lily Potter, were killed by Voldemort when Harry was just a baby. He was left to be raised by his cruel and abusive Muggle (non-magical) aunt and uncle, who treated him poorly.  Despite his difficult childhood, Harry grows up to be a kind and gentle soul. He becomes a successful businessman and marries a lovely woman named Sophia. They have two beautiful children together, a son named Felix and a daughter named Aria.  In his free time, Harry enjoys playing the guitar, hiking, and cooking. He is a bit of a perfectionist and can be quite critical of himself. Éponine's brother, Jean-Pierre, is a struggling artist. He works as a part-time painter at a local art studio. His closest friends are a group of mischievous raccoons he's named Rocky, Rusty, and Ricky. They're always getting into trouble, stealing food from the studio's kitchen and causing chaos.  Jean-Pierre's family is quite dysfunctional.\""
      ]
     },
     "execution_count": 3,
     "metadata": {},
     "output_type": "execute_result"
    }
   ],
   "source": [
    "generate(\"Who is Harry Potter?\")"
   ]
  }
 ],
 "metadata": {
  "kernelspec": {
   "display_name": "unlearn",
   "language": "python",
   "name": "python3"
  },
  "language_info": {
   "codemirror_mode": {
    "name": "ipython",
    "version": 3
   },
   "file_extension": ".py",
   "mimetype": "text/x-python",
   "name": "python",
   "nbconvert_exporter": "python",
   "pygments_lexer": "ipython3",
   "version": "3.11.9"
  }
 },
 "nbformat": 4,
 "nbformat_minor": 2
}
